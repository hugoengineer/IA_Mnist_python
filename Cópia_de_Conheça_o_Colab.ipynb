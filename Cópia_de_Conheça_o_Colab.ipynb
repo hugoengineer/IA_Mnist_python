{
  "cells": [
    {
      "cell_type": "markdown",
      "metadata": {
        "id": "view-in-github",
        "colab_type": "text"
      },
      "source": [
        "<a href=\"https://colab.research.google.com/github/hugoengineer/IA_Mnist_python/blob/main/C%C3%B3pia_de_Conhe%C3%A7a_o_Colab.ipynb\" target=\"_parent\"><img src=\"https://colab.research.google.com/assets/colab-badge.svg\" alt=\"Open In Colab\"/></a>"
      ]
    },
    {
      "cell_type": "markdown",
      "source": [
        "# Nova seção"
      ],
      "metadata": {
        "id": "8Gcr52ayrwXU"
      }
    },
    {
      "cell_type": "code",
      "source": [
        "import numpy as np\n",
        "import torch\n",
        "import torch.nn.functional as F\n",
        "import torchvision\n",
        "import matplotlib.pyplot as plt\n",
        "from time import time\n",
        "from torchvision import datasets, transforms\n",
        "from torch import nn, optim"
      ],
      "metadata": {
        "id": "XxPBdEW1rxs7"
      },
      "execution_count": 35,
      "outputs": []
    },
    {
      "cell_type": "code",
      "source": [
        "from keras.datasets import mnist\n",
        "\n",
        "#loading the dataset\n",
        "(train_X, train_y), (test_X, test_y) = mnist.load_data()\n",
        "\n",
        "#printing the shapes of the vectors\n",
        "print('X_train: ' + str(train_X.shape))\n",
        "print('Y_train: ' + str(train_y.shape))\n",
        "print('X_test:  '  + str(test_X.shape))\n",
        "print('Y_test:  '  + str(test_y.shape))"
      ],
      "metadata": {
        "colab": {
          "base_uri": "https://localhost:8080/"
        },
        "id": "GE2sphpeoHPj",
        "outputId": "7fabf709-46eb-45eb-e928-4c3cb697b28b"
      },
      "execution_count": 36,
      "outputs": [
        {
          "output_type": "stream",
          "name": "stdout",
          "text": [
            "X_train: (60000, 28, 28)\n",
            "Y_train: (60000,)\n",
            "X_test:  (10000, 28, 28)\n",
            "Y_test:  (10000,)\n"
          ]
        }
      ]
    },
    {
      "cell_type": "code",
      "source": [
        "from matplotlib import pyplot\n",
        "\n",
        "for i in range(9):\n",
        "  pyplot.subplot(320 + 1 + 1)\n",
        "  pyplot.imshow(train_X[i], cmap=pyplot.get_cmap('gray'))\n",
        "  pyplot.show()"
      ],
      "metadata": {
        "colab": {
          "base_uri": "https://localhost:8080/",
          "height": 1000
        },
        "id": "hmcDXr7OoRnF",
        "outputId": "b7447945-c233-441f-e47e-81081e20a8f2"
      },
      "execution_count": 37,
      "outputs": [
        {
          "output_type": "display_data",
          "data": {
            "text/plain": [
              "<Figure size 640x480 with 1 Axes>"
            ],
            "image/png": "[encoded data removed]"
          },
          "metadata": {}
        },
        {
          "output_type": "display_data",
          "data": {
            "text/plain": [
              "<Figure size 640x480 with 1 Axes>"
            ],
            "image/png": "[encoded data removed]"
          },
          "metadata": {}
        },
        {
          "output_type": "display_data",
          "data": {
            "text/plain": [
              "<Figure size 640x480 with 1 Axes>"
            ],
            "image/png": "[encoded data removed]"
          },
          "metadata": {}
        },
        {
          "output_type": "display_data",
          "data": {
            "text/plain": [
              "<Figure size 640x480 with 1 Axes>"
            ],
            "image/png": "[encoded data removed]"
          },
          "metadata": {}
        },
        {
          "output_type": "display_data",
          "data": {
            "text/plain": [
              "<Figure size 640x480 with 1 Axes>"
            ],
            "image/png": "[encoded data removed]"
          },
          "metadata": {}
        },
        {
          "output_type": "display_data",
          "data": {
            "text/plain": [
              "<Figure size 640x480 with 1 Axes>"
            ],
            "image/png": "[encoded data removed]"
          },
          "metadata": {}
        },
        {
          "output_type": "display_data",
          "data": {
            "text/plain": [
              "<Figure size 640x480 with 1 Axes>"
            ],
            "image/png": "[encoded data removed]"
          },
          "metadata": {}
        },
        {
          "output_type": "display_data",
          "data": {
            "text/plain": [
              "<Figure size 640x480 with 1 Axes>"
            ],
            "image/png": "[encoded data removed]"
          },
          "metadata": {}
        },
        {
          "output_type": "display_data",
          "data": {
            "text/plain": [
              "<Figure size 640x480 with 1 Axes>"
            ],
            "image/png": "[encoded data removed]"
          },
          "metadata": {}
        }
      ]
    },
    {
      "cell_type": "code",
      "source": [
        "class Modelo(nn.Module):\n",
        "    def __init__(self):\n",
        "        super(Modelo, self).__init__()\n",
        "        self.linear1 = nn.Linear(28*28, 128)\n",
        "        self.linear2 = nn.Linear(128, 64)\n",
        "        self.linear3 = nn.Linear(64, 10)\n",
        "\n",
        "    def forward(self, x):\n",
        "        x = x.view(-1, 28*28)\n",
        "        x = F.relu(self.linear1(x))\n",
        "        x = F.relu(self.linear2(x))\n",
        "        x = self.linear3(x)\n",
        "        return F.log_softmax(x, dim=1)"
      ],
      "metadata": {
        "id": "Q2IxK_1muAHu"
      },
      "execution_count": 38,
      "outputs": []
    },
    {
      "cell_type": "code",
      "source": [
        "def treino(modelo, trainLoader, device):\n",
        "  otimizador = optim.SGD(modelo.parameters(), lr=0.01, momentum=0.5)\n",
        "  inicio = timer()\n",
        "\n",
        "  criterio = nn.NLLLoss()\n",
        "  EPOCHS = 10\n",
        "  modelo.train()\n",
        "\n",
        "  for epoch in range(EPOCHS):\n",
        "    perda_acumulada = 0\n",
        "\n",
        "    for imagem, etiqueta in trainLoader:\n",
        "      imagem = imagem.view(imagem.shape[0], -1)\n",
        "\n",
        "      otimizador.zero_grad()\n",
        "\n",
        "      saida = modelo(imagem)\n",
        "\n",
        "      perda_instantanea = criterio(saida, etiqueta.to(device))\n",
        "\n",
        "      perda_instantanea.backward()\n",
        "\n",
        "      otimizador.step()\n",
        "\n",
        "      perda_acumulada += perda_instantanea.item()\n",
        "\n",
        "    else:\n",
        "      print(\"Epoch {} - Perda resultante: {}\".format(epoch+1, perda_acumulada/len(trainLoader)))\n",
        "  print(\"\\nTempo de treino (em minutos) = \", (timer()-inicio)/60)\n"
      ],
      "metadata": {
        "id": "wFL-yNJ1ynUf"
      },
      "execution_count": 39,
      "outputs": []
    },
    {
      "cell_type": "code",
      "source": [
        "def validacao(modelo, valloader, device):\n",
        "  conta_corretas, conta_todas = 0, 0\n",
        "  for imagem, etiqueta in valloader:\n",
        "    for i in range(len(etiqueta)):\n",
        "      img = imagem[i].view(1, 784)\n",
        "\n",
        "      with torch.no_grad():\n",
        "        logps = modelo(img.to(device))\n",
        "\n",
        "        ps = torch.exp(logps)\n",
        "        probab = list(ps.cpu().numpy()[0])\n",
        "        etiqueta_pred = probab.index(max(probab))\n",
        "        etiqueta_certa = etiqueta.numpy()[i]\n",
        "        if(etiqueta_certa == etiqueta_pred):\n",
        "          conta_corretas += 1\n",
        "          conta_todas += 1\n",
        "\n",
        "  print(\"Total de imagens testadas =\", conta_todas)\n",
        "  print(\"\\nPrecisão do modelo = {}%\".format(conta_corretas*100/conta_todas))"
      ],
      "metadata": {
        "id": "lf8kv97Ry3Lw"
      },
      "execution_count": 40,
      "outputs": []
    },
    {
      "cell_type": "code",
      "source": [
        "transform = transforms.ToTensor()\n",
        "\n",
        "# Update the URL to a working mirror\n",
        "trainset = datasets.MNIST('./MNIST_data/', download=True, train=True, transform=transform)\n",
        "trainLoader = torch.utils.data.DataLoader(trainset, batch_size=64, shuffle=True)\n",
        "\n",
        "valset = datasets.MNIST('./MNIST_data/', download=True, train=False, transform=transform)\n",
        "valloader = torch.utils.data.DataLoader(valset, batch_size=64, shuffle=True)"
      ],
      "metadata": {
        "id": "__3-9mYE0Lky"
      },
      "execution_count": 41,
      "outputs": []
    },
    {
      "cell_type": "code",
      "source": [
        "dataiter = iter(trainLoader)\n",
        "imagem, etiqueta = dataiter.__next__()\n",
        "\n",
        "plt.imshow(imagem[1].numpy().squeeze(), cmap='Greys_r')"
      ],
      "metadata": {
        "colab": {
          "base_uri": "https://localhost:8080/",
          "height": 447
        },
        "id": "W1xwVnxJ0qSu",
        "outputId": "87f447ed-c206-4435-f88f-91dcd4f9d829"
      },
      "execution_count": 42,
      "outputs": [
        {
          "output_type": "execute_result",
          "data": {
            "text/plain": [
              "<matplotlib.image.AxesImage at 0x7b3ae20e7fd0>"
            ]
          },
          "metadata": {},
          "execution_count": 42
        },
        {
          "output_type": "display_data",
          "data": {
            "text/plain": [
              "<Figure size 640x480 with 1 Axes>"
            ],
            "image/png": "[encoded data removed]"
          },
          "metadata": {}
        }
      ]
    },
    {
      "cell_type": "code",
      "source": [
        "modelo = Modelo()\n",
        "device = torch.device(\"cuda\" if torch.cuda.is_available() else \"cpu\")\n",
        "modelo.to(device)"
      ],
      "metadata": {
        "colab": {
          "base_uri": "https://localhost:8080/"
        },
        "id": "bZ8L6Kjl1aEK",
        "outputId": "1be29714-f082-4a91-9d6f-11368192d431"
      },
      "execution_count": 43,
      "outputs": [
        {
          "output_type": "execute_result",
          "data": {
            "text/plain": [
              "Modelo(\n",
              "  (linear1): Linear(in_features=784, out_features=128, bias=True)\n",
              "  (linear2): Linear(in_features=128, out_features=64, bias=True)\n",
              "  (linear3): Linear(in_features=64, out_features=10, bias=True)\n",
              ")"
            ]
          },
          "metadata": {},
          "execution_count": 43
        }
      ]
    },
    {
      "cell_type": "code",
      "metadata": {
        "colab": {
          "base_uri": "https://localhost:8080/"
        },
        "id": "8018e01b",
        "outputId": "a249912d-6f55-4707-8026-c2597b56cdac"
      },
      "source": [
        "from timeit import default_timer as timer\n",
        "\n",
        "caminho_do_modelo = 'modelo_mnist.pth'\n",
        "\n",
        "modelo_carregado = Modelo()\n",
        "device = torch.device(\"cuda\" if torch.cuda.is_available() else \"cpu\")\n",
        "modelo_carregado.to(device)\n",
        "try:\n",
        "    modelo_carregado.load_state_dict(torch.load(caminho_do_modelo))\n",
        "    print(\"Modelo carregado com sucesso para continuar o treinamento!\")\n",
        "except FileNotFoundError:\n",
        "    print(\"Arquivo do modelo não encontrado. Iniciando treinamento do zero.\")\n",
        "\n",
        "treino(modelo_carregado, trainLoader, device)\n",
        "\n",
        "torch.save(modelo_carregado.state_dict(), caminho_do_modelo)\n",
        "\n",
        "print(f\"Modelo (potencialmente) atualizado salvo em: {caminho_do_modelo}\")\n",
        "validacao(modelo_carregado, valloader, device)"
      ],
      "execution_count": 44,
      "outputs": [
        {
          "output_type": "stream",
          "name": "stdout",
          "text": [
            "Modelo carregado com sucesso para continuar o treinamento!\n",
            "Epoch 1 - Perda resultante: 1.133209929823367\n",
            "Epoch 2 - Perda resultante: 0.3751804672483442\n",
            "Epoch 3 - Perda resultante: 0.3081638066610421\n",
            "Epoch 4 - Perda resultante: 0.2708534957138079\n",
            "Epoch 5 - Perda resultante: 0.2409310271856246\n",
            "Epoch 6 - Perda resultante: 0.21542537402607867\n",
            "Epoch 7 - Perda resultante: 0.19365097275738524\n",
            "Epoch 8 - Perda resultante: 0.17536690036283692\n",
            "Epoch 9 - Perda resultante: 0.16039034175569378\n",
            "Epoch 10 - Perda resultante: 0.14750550990539002\n",
            "\n",
            "Tempo de treino (em minutos) =  1.7133490497333337\n",
            "Modelo (potencialmente) atualizado salvo em: modelo_mnist.pth\n",
            "Total de imagens testadas = 9569\n",
            "\n",
            "Precisão do modelo = 100.0%\n"
          ]
        }
      ]
    },
    {
      "cell_type": "code",
      "metadata": {
        "id": "29a9f127",
        "colab": {
          "base_uri": "https://localhost:8080/"
        },
        "outputId": "a326f307-93bd-4a76-b489-1111b0721c6f"
      },
      "source": [
        "caminho_do_modelo = 'modelo_mnist.pth'\n",
        "torch.save(modelo.state_dict(), caminho_do_modelo)\n",
        "\n",
        "print(f\"Modelo salvo em: {caminho_do_modelo}\")"
      ],
      "execution_count": 45,
      "outputs": [
        {
          "output_type": "stream",
          "name": "stdout",
          "text": [
            "Modelo salvo em: modelo_mnist.pth\n"
          ]
        }
      ]
    },
    {
      "cell_type": "code",
      "metadata": {
        "colab": {
          "base_uri": "https://localhost:8080/",
          "height": 504
        },
        "id": "8cdb0050",
        "outputId": "cc7d682c-759a-4264-8074-d5987f11df98"
      },
      "source": [
        "def testar_imagem(modelo, imagem, device):\n",
        "  img = imagem.to(device)\n",
        "\n",
        "\n",
        "  img = img.view(1, 784)\n",
        "\n",
        "  with torch.no_grad():\n",
        "    logps = modelo(img)\n",
        "\n",
        "  ps = torch.exp(logps)\n",
        "\n",
        "  probab = list(ps.cpu().numpy()[0])\n",
        "  etiqueta_pred = probab.index(max(probab))\n",
        "  percentagem_acerto = max(probab) * 100\n",
        "\n",
        "  return etiqueta_pred, percentagem_acerto\n",
        "\n",
        "dataiter_val = iter(valloader)\n",
        "imagem_teste, etiqueta_teste = dataiter_val.__next__()\n",
        "\n",
        "imagem_para_testar = imagem_teste[0]\n",
        "etiqueta_real = etiqueta_teste[0]\n",
        "\n",
        "numero_previsto, percentagem_acerto = testar_imagem(modelo_carregado, imagem_para_testar, device)\n",
        "\n",
        "print(f\"Etiqueta real: {etiqueta_real.item()}\")\n",
        "print(f\"Número previsto pelo modelo: {numero_previsto}\")\n",
        "print(f\"Porcentagem de confiança: {percentagem_acerto:.2f}%\")\n",
        "\n",
        "plt.imshow(imagem_para_testar.cpu().numpy().squeeze(), cmap='Greys_r')\n",
        "plt.title(f\"Previsto: {numero_previsto}, Real: {etiqueta_real.item()}\")\n",
        "plt.show()"
      ],
      "execution_count": 46,
      "outputs": [
        {
          "output_type": "stream",
          "name": "stdout",
          "text": [
            "Etiqueta real: 2\n",
            "Número previsto pelo modelo: 2\n",
            "Porcentagem de confiança: 99.92%\n"
          ]
        },
        {
          "output_type": "display_data",
          "data": {
            "text/plain": [
              "<Figure size 640x480 with 1 Axes>"
            ],
            "image/png": "[encoded data removed]"
          },
          "metadata": {}
        }
      ]
    }
  ],
  "metadata": {
    "colab": {
      "toc_visible": true,
      "provenance": [],
      "include_colab_link": true
    },
    "kernelspec": {
      "display_name": "Python 3",
      "name": "python3"
    }
  },
  "nbformat": 4,
  "nbformat_minor": 0
}